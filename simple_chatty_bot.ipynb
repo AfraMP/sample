{
 "cells": [
  {
   "cell_type": "code",
   "execution_count": 2,
   "metadata": {},
   "outputs": [
    {
     "name": "stdout",
     "output_type": "stream",
     "text": [
      "Hello! My name is Aid.\n",
      "I was created in 2020.\n",
      "Please, remind me your name.\n",
      "|max\n",
      "What a great name you have, |max!\n",
      "Let me guess your age.\n",
      "Enter remainders of dividing your age by 3, 5 and 7.\n",
      "1\n",
      "2\n",
      "1\n",
      "Your age is 22; that's a good time to start programming!\n",
      "Now I will prove to you that I can count to any number you want.\n",
      "3\n",
      "0 !\n",
      "1 !\n",
      "2 !\n",
      "3 !\n",
      "Let's test your programming knowledge.\n",
      "Why do we use methods?\n",
      "    1. To repeat a statement multiple times.\n",
      "    2. To decompose a program into several small subroutines.\n",
      "    3. To determine the execution time of a program.\n",
      "    4. To interrupt the execution of a program.\n",
      "4\n",
      "Please, try again.\n",
      "1\n",
      "Completed, have a nice day!\n",
      "Congratulations, have a nice day!\n"
     ]
    }
   ],
   "source": [
    "def greet(bot_name, birth_year):\n",
    "    print('Hello! My name is ' + bot_name + '.')\n",
    "    print('I was created in ' + birth_year + '.')\n",
    "\n",
    "\n",
    "def remind_name():\n",
    "    print('Please, remind me your name.')\n",
    "    name = input()\n",
    "    print('What a great name you have, ' + name + '!')\n",
    "\n",
    "\n",
    "def guess_age():\n",
    "    print('Let me guess your age.')\n",
    "    print('Enter remainders of dividing your age by 3, 5 and 7.')\n",
    "\n",
    "    rem3 = int(input())\n",
    "    rem5 = int(input())\n",
    "    rem7 = int(input())\n",
    "    age = (rem3 * 70 + rem5 * 21 + rem7 * 15) % 105\n",
    "\n",
    "    print(\"Your age is \" + str(age) + \"; that's a good time to start programming!\")\n",
    "\n",
    "\n",
    "def count():\n",
    "    print('Now I will prove to you that I can count to any number you want.')\n",
    "\n",
    "    num = int(input())\n",
    "    curr = 0\n",
    "    while curr <= num:\n",
    "        print(curr, '!')\n",
    "        curr = curr + 1\n",
    "\n",
    "def test():\n",
    "    print(\"Let's test your programming knowledge.\")\n",
    "    # write your code here\n",
    "    print('''Why do we use methods?\n",
    "    1. To repeat a statement multiple times.\n",
    "    2. To decompose a program into several small subroutines.\n",
    "    3. To determine the execution time of a program.\n",
    "    4. To interrupt the execution of a program.''')\n",
    "    \n",
    "    while True:\n",
    "        a = int(input())\n",
    "        if a == 4:\n",
    "            print(\"Please, try again.\")\n",
    "            continue\n",
    "        else:\n",
    "            print('Completed, have a nice day!')\n",
    "            break\n",
    "\n",
    "\n",
    "def end():\n",
    "    print('Congratulations, have a nice day!')\n",
    "    \n",
    "\n",
    "greet('Aid', '2020')  # change it as you need\n",
    "remind_name()\n",
    "guess_age()\n",
    "count()\n",
    "test()\n",
    "end()"
   ]
  },
  {
   "cell_type": "markdown",
   "metadata": {},
   "source": [
    " "
   ]
  }
 ],
 "metadata": {
  "kernelspec": {
   "display_name": "Python 3",
   "language": "python",
   "name": "python3"
  },
  "language_info": {
   "codemirror_mode": {
    "name": "ipython",
    "version": 3
   },
   "file_extension": ".py",
   "mimetype": "text/x-python",
   "name": "python",
   "nbconvert_exporter": "python",
   "pygments_lexer": "ipython3",
   "version": "3.7.3"
  }
 },
 "nbformat": 4,
 "nbformat_minor": 2
}
